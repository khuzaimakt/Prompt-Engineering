{
  "nbformat": 4,
  "nbformat_minor": 0,
  "metadata": {
    "colab": {
      "provenance": []
    },
    "kernelspec": {
      "name": "python3",
      "display_name": "Python 3"
    },
    "language_info": {
      "name": "python"
    }
  },
  "cells": [
    {
      "cell_type": "markdown",
      "source": [
        "Installing required Dependencies"
      ],
      "metadata": {
        "id": "NqlUkiTwRM7R"
      }
    },
    {
      "cell_type": "code",
      "execution_count": null,
      "metadata": {
        "colab": {
          "base_uri": "https://localhost:8080/"
        },
        "collapsed": true,
        "id": "07z6sXHdDwhZ",
        "outputId": "16208ac9-eba5-4a5b-856a-c27a7cccbd64"
      },
      "outputs": [
        {
          "output_type": "stream",
          "name": "stdout",
          "text": [
            "Collecting langgraph\n",
            "  Downloading langgraph-0.0.69-py3-none-any.whl (86 kB)\n",
            "\u001b[2K     \u001b[90m━━━━━━━━━━━━━━━━━━━━━━━━━━━━━━━━━━━━━━━━\u001b[0m \u001b[32m86.8/86.8 kB\u001b[0m \u001b[31m945.1 kB/s\u001b[0m eta \u001b[36m0:00:00\u001b[0m\n",
            "\u001b[?25hCollecting langchain_community\n",
            "  Downloading langchain_community-0.2.5-py3-none-any.whl (2.2 MB)\n",
            "\u001b[2K     \u001b[90m━━━━━━━━━━━━━━━━━━━━━━━━━━━━━━━━━━━━━━━━\u001b[0m \u001b[32m2.2/2.2 MB\u001b[0m \u001b[31m11.9 MB/s\u001b[0m eta \u001b[36m0:00:00\u001b[0m\n",
            "\u001b[?25hCollecting langchain_openai\n",
            "  Downloading langchain_openai-0.1.9-py3-none-any.whl (40 kB)\n",
            "\u001b[2K     \u001b[90m━━━━━━━━━━━━━━━━━━━━━━━━━━━━━━━━━━━━━━━━\u001b[0m \u001b[32m40.3/40.3 kB\u001b[0m \u001b[31m5.0 MB/s\u001b[0m eta \u001b[36m0:00:00\u001b[0m\n",
            "\u001b[?25hCollecting langchain-core<0.3,>=0.2 (from langgraph)\n",
            "  Downloading langchain_core-0.2.9-py3-none-any.whl (321 kB)\n",
            "\u001b[2K     \u001b[90m━━━━━━━━━━━━━━━━━━━━━━━━━━━━━━━━━━━━━━━━\u001b[0m \u001b[32m321.8/321.8 kB\u001b[0m \u001b[31m32.1 MB/s\u001b[0m eta \u001b[36m0:00:00\u001b[0m\n",
            "\u001b[?25hRequirement already satisfied: PyYAML>=5.3 in /usr/local/lib/python3.10/dist-packages (from langchain_community) (6.0.1)\n",
            "Requirement already satisfied: SQLAlchemy<3,>=1.4 in /usr/local/lib/python3.10/dist-packages (from langchain_community) (2.0.30)\n",
            "Requirement already satisfied: aiohttp<4.0.0,>=3.8.3 in /usr/local/lib/python3.10/dist-packages (from langchain_community) (3.9.5)\n",
            "Collecting dataclasses-json<0.7,>=0.5.7 (from langchain_community)\n",
            "  Downloading dataclasses_json-0.6.7-py3-none-any.whl (28 kB)\n",
            "Collecting langchain<0.3.0,>=0.2.5 (from langchain_community)\n",
            "  Downloading langchain-0.2.5-py3-none-any.whl (974 kB)\n",
            "\u001b[2K     \u001b[90m━━━━━━━━━━━━━━━━━━━━━━━━━━━━━━━━━━━━━━━━\u001b[0m \u001b[32m974.6/974.6 kB\u001b[0m \u001b[31m59.4 MB/s\u001b[0m eta \u001b[36m0:00:00\u001b[0m\n",
            "\u001b[?25hCollecting langsmith<0.2.0,>=0.1.0 (from langchain_community)\n",
            "  Downloading langsmith-0.1.81-py3-none-any.whl (127 kB)\n",
            "\u001b[2K     \u001b[90m━━━━━━━━━━━━━━━━━━━━━━━━━━━━━━━━━━━━━━━━\u001b[0m \u001b[32m127.1/127.1 kB\u001b[0m \u001b[31m15.3 MB/s\u001b[0m eta \u001b[36m0:00:00\u001b[0m\n",
            "\u001b[?25hRequirement already satisfied: numpy<2,>=1 in /usr/local/lib/python3.10/dist-packages (from langchain_community) (1.25.2)\n",
            "Requirement already satisfied: requests<3,>=2 in /usr/local/lib/python3.10/dist-packages (from langchain_community) (2.31.0)\n",
            "Requirement already satisfied: tenacity<9.0.0,>=8.1.0 in /usr/local/lib/python3.10/dist-packages (from langchain_community) (8.4.1)\n",
            "Collecting openai<2.0.0,>=1.26.0 (from langchain_openai)\n",
            "  Downloading openai-1.35.3-py3-none-any.whl (327 kB)\n",
            "\u001b[2K     \u001b[90m━━━━━━━━━━━━━━━━━━━━━━━━━━━━━━━━━━━━━━━━\u001b[0m \u001b[32m327.4/327.4 kB\u001b[0m \u001b[31m33.1 MB/s\u001b[0m eta \u001b[36m0:00:00\u001b[0m\n",
            "\u001b[?25hCollecting tiktoken<1,>=0.7 (from langchain_openai)\n",
            "  Downloading tiktoken-0.7.0-cp310-cp310-manylinux_2_17_x86_64.manylinux2014_x86_64.whl (1.1 MB)\n",
            "\u001b[2K     \u001b[90m━━━━━━━━━━━━━━━━━━━━━━━━━━━━━━━━━━━━━━━━\u001b[0m \u001b[32m1.1/1.1 MB\u001b[0m \u001b[31m47.1 MB/s\u001b[0m eta \u001b[36m0:00:00\u001b[0m\n",
            "\u001b[?25hRequirement already satisfied: aiosignal>=1.1.2 in /usr/local/lib/python3.10/dist-packages (from aiohttp<4.0.0,>=3.8.3->langchain_community) (1.3.1)\n",
            "Requirement already satisfied: attrs>=17.3.0 in /usr/local/lib/python3.10/dist-packages (from aiohttp<4.0.0,>=3.8.3->langchain_community) (23.2.0)\n",
            "Requirement already satisfied: frozenlist>=1.1.1 in /usr/local/lib/python3.10/dist-packages (from aiohttp<4.0.0,>=3.8.3->langchain_community) (1.4.1)\n",
            "Requirement already satisfied: multidict<7.0,>=4.5 in /usr/local/lib/python3.10/dist-packages (from aiohttp<4.0.0,>=3.8.3->langchain_community) (6.0.5)\n",
            "Requirement already satisfied: yarl<2.0,>=1.0 in /usr/local/lib/python3.10/dist-packages (from aiohttp<4.0.0,>=3.8.3->langchain_community) (1.9.4)\n",
            "Requirement already satisfied: async-timeout<5.0,>=4.0 in /usr/local/lib/python3.10/dist-packages (from aiohttp<4.0.0,>=3.8.3->langchain_community) (4.0.3)\n",
            "Collecting marshmallow<4.0.0,>=3.18.0 (from dataclasses-json<0.7,>=0.5.7->langchain_community)\n",
            "  Downloading marshmallow-3.21.3-py3-none-any.whl (49 kB)\n",
            "\u001b[2K     \u001b[90m━━━━━━━━━━━━━━━━━━━━━━━━━━━━━━━━━━━━━━━━\u001b[0m \u001b[32m49.2/49.2 kB\u001b[0m \u001b[31m6.3 MB/s\u001b[0m eta \u001b[36m0:00:00\u001b[0m\n",
            "\u001b[?25hCollecting typing-inspect<1,>=0.4.0 (from dataclasses-json<0.7,>=0.5.7->langchain_community)\n",
            "  Downloading typing_inspect-0.9.0-py3-none-any.whl (8.8 kB)\n",
            "Collecting langchain-text-splitters<0.3.0,>=0.2.0 (from langchain<0.3.0,>=0.2.5->langchain_community)\n",
            "  Downloading langchain_text_splitters-0.2.1-py3-none-any.whl (23 kB)\n",
            "Requirement already satisfied: pydantic<3,>=1 in /usr/local/lib/python3.10/dist-packages (from langchain<0.3.0,>=0.2.5->langchain_community) (2.7.4)\n",
            "Collecting jsonpatch<2.0,>=1.33 (from langchain-core<0.3,>=0.2->langgraph)\n",
            "  Downloading jsonpatch-1.33-py2.py3-none-any.whl (12 kB)\n",
            "Requirement already satisfied: packaging<25,>=23.2 in /usr/local/lib/python3.10/dist-packages (from langchain-core<0.3,>=0.2->langgraph) (24.1)\n",
            "Collecting orjson<4.0.0,>=3.9.14 (from langsmith<0.2.0,>=0.1.0->langchain_community)\n",
            "  Downloading orjson-3.10.5-cp310-cp310-manylinux_2_17_x86_64.manylinux2014_x86_64.whl (144 kB)\n",
            "\u001b[2K     \u001b[90m━━━━━━━━━━━━━━━━━━━━━━━━━━━━━━━━━━━━━━━━\u001b[0m \u001b[32m145.0/145.0 kB\u001b[0m \u001b[31m15.5 MB/s\u001b[0m eta \u001b[36m0:00:00\u001b[0m\n",
            "\u001b[?25hRequirement already satisfied: anyio<5,>=3.5.0 in /usr/local/lib/python3.10/dist-packages (from openai<2.0.0,>=1.26.0->langchain_openai) (3.7.1)\n",
            "Requirement already satisfied: distro<2,>=1.7.0 in /usr/lib/python3/dist-packages (from openai<2.0.0,>=1.26.0->langchain_openai) (1.7.0)\n",
            "Collecting httpx<1,>=0.23.0 (from openai<2.0.0,>=1.26.0->langchain_openai)\n",
            "  Downloading httpx-0.27.0-py3-none-any.whl (75 kB)\n",
            "\u001b[2K     \u001b[90m━━━━━━━━━━━━━━━━━━━━━━━━━━━━━━━━━━━━━━━━\u001b[0m \u001b[32m75.6/75.6 kB\u001b[0m \u001b[31m7.9 MB/s\u001b[0m eta \u001b[36m0:00:00\u001b[0m\n",
            "\u001b[?25hRequirement already satisfied: sniffio in /usr/local/lib/python3.10/dist-packages (from openai<2.0.0,>=1.26.0->langchain_openai) (1.3.1)\n",
            "Requirement already satisfied: tqdm>4 in /usr/local/lib/python3.10/dist-packages (from openai<2.0.0,>=1.26.0->langchain_openai) (4.66.4)\n",
            "Requirement already satisfied: typing-extensions<5,>=4.7 in /usr/local/lib/python3.10/dist-packages (from openai<2.0.0,>=1.26.0->langchain_openai) (4.12.2)\n",
            "Requirement already satisfied: charset-normalizer<4,>=2 in /usr/local/lib/python3.10/dist-packages (from requests<3,>=2->langchain_community) (3.3.2)\n",
            "Requirement already satisfied: idna<4,>=2.5 in /usr/local/lib/python3.10/dist-packages (from requests<3,>=2->langchain_community) (3.7)\n",
            "Requirement already satisfied: urllib3<3,>=1.21.1 in /usr/local/lib/python3.10/dist-packages (from requests<3,>=2->langchain_community) (2.0.7)\n",
            "Requirement already satisfied: certifi>=2017.4.17 in /usr/local/lib/python3.10/dist-packages (from requests<3,>=2->langchain_community) (2024.6.2)\n",
            "Requirement already satisfied: greenlet!=0.4.17 in /usr/local/lib/python3.10/dist-packages (from SQLAlchemy<3,>=1.4->langchain_community) (3.0.3)\n",
            "Requirement already satisfied: regex>=2022.1.18 in /usr/local/lib/python3.10/dist-packages (from tiktoken<1,>=0.7->langchain_openai) (2024.5.15)\n",
            "Requirement already satisfied: exceptiongroup in /usr/local/lib/python3.10/dist-packages (from anyio<5,>=3.5.0->openai<2.0.0,>=1.26.0->langchain_openai) (1.2.1)\n",
            "Collecting httpcore==1.* (from httpx<1,>=0.23.0->openai<2.0.0,>=1.26.0->langchain_openai)\n",
            "  Downloading httpcore-1.0.5-py3-none-any.whl (77 kB)\n",
            "\u001b[2K     \u001b[90m━━━━━━━━━━━━━━━━━━━━━━━━━━━━━━━━━━━━━━━━\u001b[0m \u001b[32m77.9/77.9 kB\u001b[0m \u001b[31m10.2 MB/s\u001b[0m eta \u001b[36m0:00:00\u001b[0m\n",
            "\u001b[?25hCollecting h11<0.15,>=0.13 (from httpcore==1.*->httpx<1,>=0.23.0->openai<2.0.0,>=1.26.0->langchain_openai)\n",
            "  Downloading h11-0.14.0-py3-none-any.whl (58 kB)\n",
            "\u001b[2K     \u001b[90m━━━━━━━━━━━━━━━━━━━━━━━━━━━━━━━━━━━━━━━━\u001b[0m \u001b[32m58.3/58.3 kB\u001b[0m \u001b[31m7.6 MB/s\u001b[0m eta \u001b[36m0:00:00\u001b[0m\n",
            "\u001b[?25hCollecting jsonpointer>=1.9 (from jsonpatch<2.0,>=1.33->langchain-core<0.3,>=0.2->langgraph)\n",
            "  Downloading jsonpointer-3.0.0-py2.py3-none-any.whl (7.6 kB)\n",
            "Requirement already satisfied: annotated-types>=0.4.0 in /usr/local/lib/python3.10/dist-packages (from pydantic<3,>=1->langchain<0.3.0,>=0.2.5->langchain_community) (0.7.0)\n",
            "Requirement already satisfied: pydantic-core==2.18.4 in /usr/local/lib/python3.10/dist-packages (from pydantic<3,>=1->langchain<0.3.0,>=0.2.5->langchain_community) (2.18.4)\n",
            "Collecting mypy-extensions>=0.3.0 (from typing-inspect<1,>=0.4.0->dataclasses-json<0.7,>=0.5.7->langchain_community)\n",
            "  Downloading mypy_extensions-1.0.0-py3-none-any.whl (4.7 kB)\n",
            "Installing collected packages: orjson, mypy-extensions, marshmallow, jsonpointer, h11, typing-inspect, tiktoken, jsonpatch, httpcore, langsmith, httpx, dataclasses-json, openai, langchain-core, langgraph, langchain-text-splitters, langchain_openai, langchain, langchain_community\n",
            "Successfully installed dataclasses-json-0.6.7 h11-0.14.0 httpcore-1.0.5 httpx-0.27.0 jsonpatch-1.33 jsonpointer-3.0.0 langchain-0.2.5 langchain-core-0.2.9 langchain-text-splitters-0.2.1 langchain_community-0.2.5 langchain_openai-0.1.9 langgraph-0.0.69 langsmith-0.1.81 marshmallow-3.21.3 mypy-extensions-1.0.0 openai-1.35.3 orjson-3.10.5 tiktoken-0.7.0 typing-inspect-0.9.0\n"
          ]
        }
      ],
      "source": [
        "%pip install -U langgraph langchain_community langchain_openai"
      ]
    },
    {
      "cell_type": "markdown",
      "source": [
        "Setting Up Required Environment Variables"
      ],
      "metadata": {
        "id": "PlLZh9VORbXj"
      }
    },
    {
      "cell_type": "code",
      "source": [
        "import os\n",
        "os.environ['OPENAI_API_KEY'] = ''\n",
        "os.environ['LANGCHAIN_API_KEY'] = ''"
      ],
      "metadata": {
        "id": "H3LQQXquM7rn"
      },
      "execution_count": null,
      "outputs": []
    },
    {
      "cell_type": "markdown",
      "source": [
        "Importing the OpenAI model GPT-4 using Langchain"
      ],
      "metadata": {
        "id": "8IGQTHlwRe8z"
      }
    },
    {
      "cell_type": "code",
      "source": [
        "from langchain_openai import ChatOpenAI\n",
        "\n",
        "model = ChatOpenAI(model=\"gpt-4\")"
      ],
      "metadata": {
        "id": "4gVsvmJ4M-al"
      },
      "execution_count": null,
      "outputs": []
    },
    {
      "cell_type": "markdown",
      "source": [
        "<h1>Social Media Post Generation</h1>"
      ],
      "metadata": {
        "id": "q-dsoipOcsLv"
      }
    },
    {
      "cell_type": "markdown",
      "source": [
        "Function to Prepare Prompt for Task 1"
      ],
      "metadata": {
        "id": "0HU6tE57RnZ4"
      }
    },
    {
      "cell_type": "code",
      "source": [
        "def prepare_prompt(answers):\n",
        "    prompt = f\"\"\"Using the answers provided, generate a professional and engaging social media post that highlights the success story of a\n",
        "    a given story or case study. The post should include key achievements in bullet points and follow the style and tone of the example given.\n",
        "\n",
        "    Q1: Can you describe the specific case study or transformation story you want to share?\n",
        "    Answer: {answers[0]}\n",
        "\n",
        "    Q2: What challenge or problem was addressed in this case?\n",
        "    Answer: {answers[1]}\n",
        "\n",
        "    Q3: What were the key results or outcomes achieved in this story?\n",
        "    Answer: {answers[2]}\n",
        "\n",
        "    Q.4: Are there any data, quotes, or testimonials that illustrate the impact?\n",
        "    Answer: {answers[3]}\n",
        "\n",
        "    Q.5: Is there a specific call-to-action?\n",
        "    Answer:{answers[4]}\n",
        "\n",
        "    Q.6: Are there any specific hashtags you’d like to include?\n",
        "    Answer: {answers[5]}\n",
        "\n",
        "    Q.7: Describe your desired tone and style.\n",
        "    Answer: {answers[6]}\n",
        "  \"\"\"\n",
        "\n",
        "    return prompt"
      ],
      "metadata": {
        "id": "hWeXHFhGYwXG"
      },
      "execution_count": null,
      "outputs": []
    },
    {
      "cell_type": "markdown",
      "source": [
        "Answer to the Questions"
      ],
      "metadata": {
        "id": "AVjfM_zqRrfa"
      }
    },
    {
      "cell_type": "code",
      "source": [
        "answers=['successful collaboration between Sodexo and CoachHub to accelerate leadership development across the APMEA region.','The challenge addressed in this case was the need for scalable leadership development programs that could effectively engage and develop employees across diverse geographic regions, particularly in the Asia Pacific, Middle East, and Africa (APMEA).','The key results achieved in this story include the implementation of scalable coaching programs powered by AI and analytics, which led to improved knowledge retention, enhanced leadership skills, and increased employee engagement across the APMEA region.','75% of classroom-style training is forgotten if its not implemented within 6 days after.','Join thousands of coachees like Sodexos Head of FMCG Accounts, Jean Baptiste CALEMARD, on a journey of growth and transformation to explore the greater you.','#ExploreTheGreaterYou','professional and make sure to write the achievements in the form of points.']"
      ],
      "metadata": {
        "id": "ZrFXbhkaY0EB"
      },
      "execution_count": null,
      "outputs": []
    },
    {
      "cell_type": "markdown",
      "source": [
        "Prompt:"
      ],
      "metadata": {
        "id": "AbfYmNCNRt46"
      }
    },
    {
      "cell_type": "code",
      "source": [
        "prompt= prepare_prompt(answers)\n",
        "print(prompt)\n"
      ],
      "metadata": {
        "colab": {
          "base_uri": "https://localhost:8080/"
        },
        "id": "cROZpEdEeAev",
        "outputId": "983e64f5-0d44-45f7-80d3-cbad532ee49d"
      },
      "execution_count": null,
      "outputs": [
        {
          "output_type": "stream",
          "name": "stdout",
          "text": [
            "Using the answers provided, generate a professional and engaging social media post that highlights the success story of a \n",
            "    a given story or case study. The post should include key achievements in bullet points and follow the style and tone of the example given.\n",
            "\n",
            "    Q1: Can you describe the specific case study or transformation story you want to share?\n",
            "    Answer: successful collaboration between Sodexo and CoachHub to accelerate leadership development across the APMEA region.\n",
            "\n",
            "    Q2: What challenge or problem was addressed in this case?\n",
            "    Answer: The challenge addressed in this case was the need for scalable leadership development programs that could effectively engage and develop employees across diverse geographic regions, particularly in the Asia Pacific, Middle East, and Africa (APMEA).\n",
            "\n",
            "    Q3: What were the key results or outcomes achieved in this story?\n",
            "    Answer: The key results achieved in this story include the implementation of scalable coaching programs powered by AI and analytics, which led to improved knowledge retention, enhanced leadership skills, and increased employee engagement across the APMEA region.\n",
            "\n",
            "    Q.4: Are there any data, quotes, or testimonials that illustrate the impact?\n",
            "    Answer: 75% of classroom-style training is forgotten if its not implemented within 6 days after.\n",
            "\n",
            "    Q.5: Is there a specific call-to-action?\n",
            "    Answer:Join thousands of coachees like Sodexos Head of FMCG Accounts, Jean Baptiste CALEMARD, on a journey of growth and transformation to explore the greater you.\n",
            "\n",
            "    Q.6: Are there any specific hashtags you’d like to include?\n",
            "    Answer: #ExploreTheGreaterYou\n",
            "\n",
            "    Q.7: Describe your desired tone and style.\n",
            "    Answer: professional and make sure to write the achievements in the form of points.\n",
            "  \n"
          ]
        }
      ]
    },
    {
      "cell_type": "markdown",
      "source": [
        "Invoking the prompt on model and printing the result"
      ],
      "metadata": {
        "id": "bnfGEo6cRv_p"
      }
    },
    {
      "cell_type": "code",
      "source": [
        "result = model.invoke(input=prompt)"
      ],
      "metadata": {
        "id": "NE1Xeyq8eKff"
      },
      "execution_count": null,
      "outputs": []
    },
    {
      "cell_type": "code",
      "source": [
        "print(result.content)"
      ],
      "metadata": {
        "colab": {
          "base_uri": "https://localhost:8080/"
        },
        "id": "-8FXAFByfJHp",
        "outputId": "bea86a0c-cacb-4dc6-8f4d-3ef01b0806f4"
      },
      "execution_count": null,
      "outputs": [
        {
          "output_type": "stream",
          "name": "stdout",
          "text": [
            "🎉We're thrilled to share the success story of our collaboration with Sodexo, where together we accelerated leadership development across the Asia Pacific, Middle East, and Africa (APMEA) region. 🌍\n",
            "\n",
            "Faced with the challenge of creating scalable leadership development programs in diverse geographic regions, we rose to the occasion. Here are the key achievements of this remarkable journey:\n",
            "\n",
            "🌟 Developed and implemented scalable AI and analytics powered coaching programs.\n",
            "🌟 Improved knowledge retention beyond the 6-day mark after which 75% of classroom-style training is typically forgotten.\n",
            "🌟 Enhanced leadership skills across the board.\n",
            "🌟 Increased employee engagement across the APMEA region.\n",
            "\n",
            "Don't just take our word for it! Hear directly from one of our coachees: \"Join thousands of coachees like Sodexo’s Head of FMCG Accounts, Jean Baptiste CALEMARD, on a journey of growth and transformation to explore the greater you.\"\n",
            "\n",
            "Are you ready to #ExploreTheGreaterYou? Embark on your own journey of growth and transformation today. 💡🚀\n",
            "\n",
            "#LeadershipDevelopment #EmployeeEngagement #AIcoaching #SuccessStory\n"
          ]
        }
      ]
    },
    {
      "cell_type": "markdown",
      "source": [
        "<h1>Time Table Generation</h1>"
      ],
      "metadata": {
        "id": "_47eyAURfboL"
      }
    },
    {
      "cell_type": "markdown",
      "source": [
        "Creating Pseudo Student Data"
      ],
      "metadata": {
        "id": "9ZPbsTNRlABQ"
      }
    },
    {
      "cell_type": "code",
      "source": [
        "student_data={\n",
        "    'Name':'Jane Doe',\n",
        "    'Field of Study':'Science',\n",
        "    'Year of Study': '2024',\n",
        "    'List of Subjects': 'Math (B), Science (A), History (C), English (B+), French (A-)',\n",
        "    'Preferred Learning Style': 'Visual and Kinesthetic',\n",
        "    'Personal Objectives':'Preparing for SATs, interested in pursuing a career in medicine ',\n",
        "    'Challenges':'struggles with History',\n",
        "    'Extracurricular activities':'Basketball, Drama Club'\n",
        "}"
      ],
      "metadata": {
        "id": "KIlv7lc3fLWk"
      },
      "execution_count": null,
      "outputs": []
    },
    {
      "cell_type": "markdown",
      "source": [
        "Defining Prompt for Task 2"
      ],
      "metadata": {
        "id": "80-KtmVtmXK4"
      }
    },
    {
      "cell_type": "code",
      "source": [
        "def prepare_prompt(student_data):\n",
        "  prompt= f\"\"\"\n",
        "  You are tasked with creating a personalized study timetable for a student. The goal is to design a study plan that maximizes the student's academic performance while considering their unique learning preferences, extracurricular commitments, and personal objectives or challenges. Below, you will find a detailed description of the student's profile. Use this information to generate a study timetable that aligns with the student's specific needs and aspirations.\n",
        "\n",
        "  Student Profile:\n",
        "\n",
        "  Subjects and Academic Performance:\n",
        "  List of subjects the student is currently studying.\n",
        "  Current grades or performance levels in each subject.\n",
        "  Subjects where the student excels.\n",
        "  Subjects where the student struggles.\n",
        "\n",
        "  Preferred Learning Styles:\n",
        "  Visual: Prefers learning through images, diagrams, and spatial understanding.\n",
        "  Auditory: Prefers learning through listening, such as lectures and discussions.\n",
        "  Kinesthetic: Prefers learning through hands-on activities and movement.\n",
        "\n",
        "  Extracurricular Activities:\n",
        "  Description of the student's extracurricular commitments (sports, arts, clubs, etc.).\n",
        "  Importance and priority of these activities in the student's life.\n",
        "\n",
        "  Personal Objectives or Challenges:\n",
        "  Specific academic goals (e.g., preparing for an exam, improving grades in a particular subject).\n",
        "  Any learning difficulties or challenges (e.g., ADHD, dyslexia).\n",
        "  Personal aspirations (e.g., pursuing a particular career, developing a specific skill).\n",
        "\n",
        "\n",
        "  Instructions for Creating the Study Timetable:\n",
        "\n",
        "  Analyze Academic Needs:\n",
        "  Allocate more study time to subjects where the student struggles.\n",
        "  Incorporate review sessions for subjects where the student excels to maintain proficiency.\n",
        "  Ensure a balanced distribution of study time across all subjects.\n",
        "\n",
        "  Incorporate Learning Styles:\n",
        "  Design study sessions that align with the student's preferred learning styles.\n",
        "  For visual learners, include activities like mind mapping, using flashcards, and watching educational videos.\n",
        "  For auditory learners, suggest listening to recorded lectures, participating in study groups, and using mnemonic devices.\n",
        "  For kinesthetic learners, recommend hands-on activities, experiments, and frequent breaks to move around.\n",
        "\n",
        "  Balance with Extracurricular Activities:\n",
        "  Schedule study sessions around the student's extracurricular commitments.\n",
        "  Ensure that the timetable allows for adequate rest and leisure time to avoid burnout.\n",
        "  Consider the intensity and importance of extracurricular activities in the overall schedule.\n",
        "\n",
        "  Address Personal Objectives and Challenges:\n",
        "  Create focused study blocks for specific academic goals, such as exam preparation.\n",
        "  Incorporate strategies to overcome learning difficulties, such as breaking tasks into smaller, manageable chunks.\n",
        "  Include activities that align with personal aspirations, like reading related materials or practicing relevant skills.\n",
        "\n",
        "  Flexibility and Review:\n",
        "  Design the timetable to be flexible, allowing for adjustments as needed.\n",
        "  Include periodic review sessions to assess progress and make necessary changes to the study plan.\n",
        "\n",
        "\n",
        "  Here is the student profile:\n",
        "\n",
        "  Name: {student_data['Name']}\n",
        "  Subjects: {student_data['List of Subjects']}\n",
        "  Preferred Learning Styles: {student_data['Preferred Learning Style']},\n",
        "  Extracurricular Activities: {student_data['Extracurricular activities']} ,\n",
        "  Personal Objectives: {student_data['Personal Objectives']},\n",
        "  Challenges: {student_data['Challenges']}\n",
        "\n",
        "  \"\"\"\n",
        "\n",
        "  return prompt"
      ],
      "metadata": {
        "id": "8Ti-SeZRVmbi"
      },
      "execution_count": null,
      "outputs": []
    },
    {
      "cell_type": "markdown",
      "source": [
        "Prompt"
      ],
      "metadata": {
        "id": "DqaA9ACFmZvA"
      }
    },
    {
      "cell_type": "code",
      "source": [
        "prompt= prepare_prompt(student_data)\n",
        "print(prompt)"
      ],
      "metadata": {
        "colab": {
          "base_uri": "https://localhost:8080/"
        },
        "id": "X1Qfly3KZrIY",
        "outputId": "b6490da8-c37d-468c-b516-89ddba0de099"
      },
      "execution_count": null,
      "outputs": [
        {
          "output_type": "stream",
          "name": "stdout",
          "text": [
            "\n",
            "  You are tasked with creating a personalized study timetable for a student. The goal is to design a study plan that maximizes the student's academic performance while considering their unique learning preferences, extracurricular commitments, and personal objectives or challenges. Below, you will find a detailed description of the student's profile. Use this information to generate a study timetable that aligns with the student's specific needs and aspirations.\n",
            "\n",
            "  Student Profile:\n",
            "\n",
            "  Subjects and Academic Performance:\n",
            "  List of subjects the student is currently studying.\n",
            "  Current grades or performance levels in each subject.\n",
            "  Subjects where the student excels.\n",
            "  Subjects where the student struggles.\n",
            "\n",
            "  Preferred Learning Styles:\n",
            "  Visual: Prefers learning through images, diagrams, and spatial understanding.\n",
            "  Auditory: Prefers learning through listening, such as lectures and discussions.\n",
            "  Kinesthetic: Prefers learning through hands-on activities and movement.\n",
            "\n",
            "  Extracurricular Activities:\n",
            "  Description of the student's extracurricular commitments (sports, arts, clubs, etc.).\n",
            "  Schedule and time commitments for each activity.\n",
            "  Importance and priority of these activities in the student's life.\n",
            "\n",
            "  Personal Objectives or Challenges:\n",
            "  Specific academic goals (e.g., preparing for an exam, improving grades in a particular subject).\n",
            "  Any learning difficulties or challenges (e.g., ADHD, dyslexia).\n",
            "  Personal aspirations (e.g., pursuing a particular career, developing a specific skill).\n",
            "\n",
            "\n",
            "  Instructions for Creating the Study Timetable:\n",
            "\n",
            "  Analyze Academic Needs:\n",
            "  Allocate more study time to subjects where the student struggles.\n",
            "  Incorporate review sessions for subjects where the student excels to maintain proficiency.\n",
            "  Ensure a balanced distribution of study time across all subjects.\n",
            "\n",
            "  Incorporate Learning Styles:\n",
            "  Design study sessions that align with the student's preferred learning styles.\n",
            "  For visual learners, include activities like mind mapping, using flashcards, and watching educational videos.\n",
            "  For auditory learners, suggest listening to recorded lectures, participating in study groups, and using mnemonic devices.\n",
            "  For kinesthetic learners, recommend hands-on activities, experiments, and frequent breaks to move around.\n",
            "\n",
            "  Balance with Extracurricular Activities:\n",
            "  Schedule study sessions around the student's extracurricular commitments.\n",
            "  Ensure that the timetable allows for adequate rest and leisure time to avoid burnout.\n",
            "  Consider the intensity and importance of extracurricular activities in the overall schedule.\n",
            "\n",
            "  Address Personal Objectives and Challenges:\n",
            "  Create focused study blocks for specific academic goals, such as exam preparation.\n",
            "  Incorporate strategies to overcome learning difficulties, such as breaking tasks into smaller, manageable chunks.\n",
            "  Include activities that align with personal aspirations, like reading related materials or practicing relevant skills.\n",
            "\n",
            "  Flexibility and Review:\n",
            "  Design the timetable to be flexible, allowing for adjustments as needed.\n",
            "  Include periodic review sessions to assess progress and make necessary changes to the study plan.\n",
            "\n",
            "\n",
            "  Here is the student profile:\n",
            "\n",
            "  Name: Jane Doe\n",
            "  Subjects: Math (B), Science (A), History (C), English (B+), French (A-)\n",
            "  Preferred Learning Styles: Visual and Kinesthetic,\n",
            "  Extracurricular Activities: Basketball, Drama Club ,\n",
            "  Personal Objectives: Preparing for SATs, interested in pursuing a career in medicine ,\n",
            "  Challenges: struggles with History\n",
            "\n",
            "  \n"
          ]
        }
      ]
    },
    {
      "cell_type": "markdown",
      "source": [
        "Invoking Model and Printing Response"
      ],
      "metadata": {
        "id": "EUOOfzEgmbMz"
      }
    },
    {
      "cell_type": "code",
      "source": [
        "result = model.invoke(input=prompt)"
      ],
      "metadata": {
        "id": "-Um6cSoVcvmI"
      },
      "execution_count": null,
      "outputs": []
    },
    {
      "cell_type": "code",
      "source": [
        "print(result.content)"
      ],
      "metadata": {
        "colab": {
          "base_uri": "https://localhost:8080/"
        },
        "id": "j9hoR0Ekdfrj",
        "outputId": "7c85f2e8-1a68-4eaf-cfe6-a8a6ed9451c6"
      },
      "execution_count": null,
      "outputs": [
        {
          "output_type": "stream",
          "name": "stdout",
          "text": [
            "Study Timetable:\n",
            "\n",
            "Monday:\n",
            "- 4:00 PM - 5:00 PM: Math (use visual aids like graphs and diagrams, hands-on activities like math puzzles)\n",
            "- 5:15 PM - 6:15 PM: Basketball practice\n",
            "- 6:30 PM - 7:30 PM: History (read and summarize key events visually using mind maps or timelines)\n",
            "\n",
            "Tuesday:\n",
            "- 4:00 PM - 5:00 PM: Science (incorporate visual aids and hands-on experiments)\n",
            "- 5:15 PM - 6:15 PM: Drama Club\n",
            "- 6:30 PM - 7:30 PM: Math (review session)\n",
            "\n",
            "Wednesday:\n",
            "- 4:00 PM - 5:00 PM: English (incorporate visual learning through literature movies and kinesthetic learning through writing exercises)\n",
            "- 5:15 PM - 6:15 PM: Basketball practice\n",
            "- 6:30 PM - 7:30 PM: SATs preparation (focus on math and English, use SAT prep books, online resources, flashcards)\n",
            "\n",
            "Thursday:\n",
            "- 4:00 PM - 5:00 PM: French (use visual aids like flashcards, hands-on activities like role-play)\n",
            "- 5:15 PM - 6:15 PM: Drama Club\n",
            "- 6:30 PM - 7:30 PM: History (review session)\n",
            "\n",
            "Friday:\n",
            "- 4:00 PM - 5:00 PM: Science (review session)\n",
            "- 5:15 PM - 6:15 PM: Basketball practice\n",
            "- 6:30 PM - 7:30 PM: SATs preparation (focus on science and history, use SAT prep books, online resources, flashcards)\n",
            "\n",
            "Saturday:\n",
            "- 10:00 AM - 11:00 AM: English (review session)\n",
            "- 11:15 AM - 12:15 PM: French (review session)\n",
            "- 12:30 PM - 1:30 PM: Leisure time\n",
            "\n",
            "Sunday:\n",
            "- 10:00 AM - 11:00 AM: SATs preparation (focus on French, use SAT prep books, online resources, flashcards)\n",
            "- 11:15 AM - 12:15 PM: Review of the week's study (assess progress, make necessary adjustments for next week)\n",
            "- 12:30 PM - 1:30 PM: Leisure time\n",
            "\n",
            "Note: This timetable is flexible and can be adjusted according to Jane's needs and progress. Breaks between study sessions are for resting, moving around, and snacking to maintain energy levels. The timetable also ensures that Jane has enough time for her basketball practice and Drama club, and that her weekends are not completely occupied by studies.\n"
          ]
        }
      ]
    }
  ]
}